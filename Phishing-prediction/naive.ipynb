{
 "cells": [
  {
   "cell_type": "code",
   "execution_count": null,
   "metadata": {},
   "outputs": [],
   "source": [
    "import pandas as pd\n",
    "from sklearn.model_selection import train_test_split\n",
    "from sklearn.naive_bayes import GaussianNB\n",
    "from sklearn.metrics import accuracy_score, precision_score, recall_score, f1_score, roc_auc_score, confusion_matrix, classification_report\n",
    "import seaborn as sns\n",
    "import matplotlib.pyplot as plt\n",
    "\n",
    "# Load the cleaned dataset\n",
    "cleaned_data_top_30_path = './cleaned_dataset.csv'\n",
    "dataset_top_30 = pd.read_csv(cleaned_data_top_30_path)\n",
    "\n",
    "# Step 1: Split the data into training, validation, and testing sets\n",
    "X = dataset_top_30.drop(columns=['status'])\n",
    "y = dataset_top_30['status']\n",
    "X_train, X_temp, y_train, y_temp = train_test_split(X, y, test_size=0.4, random_state=42, stratify=y)\n",
    "X_val, X_test, y_val, y_test = train_test_split(X_temp, y_temp, test_size=0.5, random_state=42, stratify=y_temp)\n",
    "\n",
    "# Step 2: Train Naive Bayes model\n",
    "naive_bayes = GaussianNB()\n",
    "naive_bayes.fit(X_train, y_train)\n",
    "\n",
    "# Step 3: Evaluate the model on validation and test sets\n",
    "def evaluate_model(model, X, y_true, dataset_name):\n",
    "    y_pred = model.predict(X)\n",
    "    y_prob = model.predict_proba(X)[:, 1]\n",
    "\n",
    "    print(f\"\\nEvaluation Metrics for {dataset_name} Set:\")\n",
    "    print(f\"Accuracy: {accuracy_score(y_true, y_pred):.4f}\")\n",
    "    print(f\"Precision: {precision_score(y_true, y_pred):.4f}\")\n",
    "    print(f\"Recall: {recall_score(y_true, y_pred):.4f}\")\n",
    "    print(f\"F1 Score: {f1_score(y_true, y_pred):.4f}\")\n",
    "    print(f\"ROC-AUC: {roc_auc_score(y_true, y_prob):.4f}\")\n",
    "    print(f\"Confusion Matrix:\\n{confusion_matrix(y_true, y_pred)}\")\n",
    "    print(f\"Classification Report:\\n{classification_report(y_true, y_pred)}\")\n",
    "\n",
    "# Validation Set Evaluation\n",
    "evaluate_model(naive_bayes, X_val, y_val, \"Validation\")\n",
    "\n",
    "# Test Set Evaluation\n",
    "evaluate_model(naive_bayes, X_test, y_test, \"Test\")\n"
   ]
  },
  {
   "cell_type": "code",
   "execution_count": 2,
   "metadata": {},
   "outputs": [
    {
     "name": "stdout",
     "output_type": "stream",
     "text": [
      "\n",
      "Prediction Result:\n",
      "The site is classified as: Legitimate\n"
     ]
    }
   ],
   "source": [
    "def predict_legitimacy(model, features):\n",
    "\n",
    "    feature_names = [\n",
    "        'google_index', 'page_rank', 'nb_www', 'ratio_digits_url', 'domain_in_title', \n",
    "        'phish_hints', 'nb_hyperlinks', 'domain_age', 'ip', 'nb_qm', 'length_url', 'nb_slash', \n",
    "        'ratio_intHyperlinks', 'nb_eq', 'length_hostname', 'shortest_word_host', \n",
    "        'ratio_digits_host', 'longest_word_path', 'prefix_suffix', 'empty_title', 'nb_dots', \n",
    "        'tld_in_subdomain', 'avg_word_path', 'longest_words_raw', 'length_words_raw', \n",
    "        'avg_word_host', 'ratio_intMedia', 'links_in_tags', 'safe_anchor', 'nb_and'\n",
    "    ]\n",
    "\n",
    "    if len(features) != 30:\n",
    "        raise ValueError(\"The features list must contain exactly 30 values.\")\n",
    "\n",
    "    input_df = pd.DataFrame([features], columns=feature_names)\n",
    "    prediction = model.predict(input_df)[0]\n",
    "    return 'Legitimate' if prediction == 0 else 'Phishing'\n",
    "\n",
    "# Example input (replace with actual values)\n",
    "example_features = [\n",
    "    -1.0557447758568421,1.5014844041281998,-0.9034507176266335,-0.5895263800572494,-1.851488439441288,-0.39001191791538864,0.6602660344145294,0.9891360414018423,-0.4191469247867368,-0.38728992435770304,-0.43648654573454165,-0.16017701646777963,0.9599501117493946,-0.2927574387620748,-0.4659233872726095,-0.7640632816066878,-0.262694053291415,-0.15571661492026012,-0.5028857065357237,-0.37857823892332665,-0.3498650109607634,-0.2262226565244752,0.05339698289367117,-0.28859211168239496,-0.4031338400763412,-0.6066757700223698,1.2281256759788595,1.1550144192729432,0.9439362657661817,-0.19640944041902755\n",
    "]\n",
    "result = predict_legitimacy(naive_bayes, example_features)\n",
    "print(\"\\nPrediction Result:\")\n",
    "print(f\"The site is classified as: {result}\")"
   ]
  }
 ],
 "metadata": {
  "kernelspec": {
   "display_name": "Python 3",
   "language": "python",
   "name": "python3"
  },
  "language_info": {
   "codemirror_mode": {
    "name": "ipython",
    "version": 3
   },
   "file_extension": ".py",
   "mimetype": "text/x-python",
   "name": "python",
   "nbconvert_exporter": "python",
   "pygments_lexer": "ipython3",
   "version": "3.11.0"
  },
  "orig_nbformat": 4
 },
 "nbformat": 4,
 "nbformat_minor": 2
}
